{
 "cells": [
  {
   "cell_type": "code",
   "execution_count": 5,
   "metadata": {
    "scrolled": true
   },
   "outputs": [],
   "source": [
    "try:\n",
    "    import pandas as pd\n",
    "    import os\n",
    "\n",
    "    from glob import glob\n",
    "\n",
    "except:\n",
    "    !pip install pandas\n",
    "    !pip install os\n",
    "    !pip install glob\n",
    "\n",
    "finally:\n",
    "    import pandas as pd\n",
    "    import os\n",
    "\n",
    "    from glob import glob"
   ]
  },
  {
   "cell_type": "code",
   "execution_count": 6,
   "metadata": {},
   "outputs": [],
   "source": [
    "#Path Values\n",
    "path_data_test = './Data/test'\n",
    "path_data_train = './Data/train'\n",
    "\n",
    "path_label_test = './Data/sample_submission.csv'\n",
    "path_label_train = './Data/train_labels.csv'"
   ]
  },
  {
   "cell_type": "code",
   "execution_count": 7,
   "metadata": {},
   "outputs": [],
   "source": [
    "#This function creates a data frame which includes path, id and label of each file\n",
    "def pathLabel(path_data, path_label):\n",
    "    df = pd.DataFrame({'path':glob(os.path.join(path_data,'*.tif'))})\n",
    "    df['id'] = df.path.map(lambda x: x.split('\\\\')[1].split(\".\")[0])\n",
    "    labels = pd.read_csv(path_label)\n",
    "    df = df.merge(labels, on = \"id\")\n",
    "    return df"
   ]
  },
  {
   "cell_type": "code",
   "execution_count": 8,
   "metadata": {},
   "outputs": [
    {
     "name": "stdout",
     "output_type": "stream",
     "text": [
      "Requirement already satisfied: numpy in c:\\users\\ekerakin\\anaconda3\\envs\\deeplearning-r\\lib\\site-packages (1.16.2)\n",
      "Requirement already satisfied: tqdm in c:\\users\\ekerakin\\anaconda3\\envs\\deeplearning-r\\lib\\site-packages (4.31.1)\n"
     ]
    }
   ],
   "source": [
    "#Reads batch size of images using pathLabel()'s dataframe function\n",
    "#Returns tensor object of images\n",
    "try:\n",
    "    import numpy as np\n",
    "    import cv2\n",
    "\n",
    "    from tqdm import tqdm_notebook,trange\n",
    "    \n",
    "except:\n",
    "    !pip install numpy\n",
    "    ##!pip install cv2 #if this do not work try open-cv instead of cv2\n",
    "    !pip install tqdm\n",
    "finally:\n",
    "    import numpy as np\n",
    "   ## import cv2\n",
    "\n",
    "    from tqdm import tqdm_notebook,trange\n",
    "    \n",
    "def readImages( start_index = 0 ,batch_size = 100, data_frame = None):\n",
    "    X = np.zeros([batch_size,96,96,3],dtype=np.uint8) \n",
    "    y = data_frame['label'][0:batch_size]\n",
    "    for i, row in tqdm_notebook(data_frame.iterrows(), total=batch_size):\n",
    "        if i == batch_size:\n",
    "            break\n",
    "        X[i] = cv2.imread(row['path'])          \n",
    "    return X,y, (start_index+batch_size)"
   ]
  },
  {
   "cell_type": "code",
   "execution_count": 9,
   "metadata": {},
   "outputs": [],
   "source": [
    "import torch\n",
    "import torch.nn.functional as F\n",
    "import torchvision.transforms as transforms\n",
    "import torchbearer\n",
    "import torchvision\n",
    "from torch import nn\n",
    "from torch import optim\n",
    "from torch.utils.data import DataLoader\n",
    "from torchvision.datasets import MNIST\n",
    "from torchbearer import Trial"
   ]
  },
  {
   "cell_type": "code",
   "execution_count": 10,
   "metadata": {
    "scrolled": true
   },
   "outputs": [],
   "source": [
    "#IMPORTING USING PYTORCH\n",
    "try:\n",
    "    import torch\n",
    "except:\n",
    "    !pip install https://download.pytorch.org/whl/cu90/torch-1.0.1-cp36-cp36m-win_amd64.whl\n",
    "    !pip install torchvision\n",
    "try: \n",
    "    import torchbearer\n",
    "except:\n",
    "    !pip install torchbearer"
   ]
  },
  {
   "cell_type": "code",
   "execution_count": 11,
   "metadata": {},
   "outputs": [],
   "source": [
    "#Data Path Constants\n",
    "path_train_images = \"./Data/train\"\n",
    "path_train_labels = \"./Data/train_labels.csv\""
   ]
  },
  {
   "cell_type": "code",
   "execution_count": 12,
   "metadata": {
    "scrolled": true
   },
   "outputs": [],
   "source": [
    "#move Images Based On Their Labels\n",
    "df_train = pathLabel(path_data_train,path_label_train)\n",
    "\n",
    "import glob\n",
    "import shutil\n",
    "import os\n",
    "\n",
    "src_dir = \"./Data/train\"\n",
    "dst_dir_true = \"./Data/train/True\"\n",
    "dst_dir_false = \"./Data/train/False\"\n",
    "\n",
    "for (im_path,im_label) in zip(df_train['path'], df_train['label']):\n",
    "    if(im_label == 1):\n",
    "        shutil.move(im_path, dst_dir_true)\n",
    "    elif(im_label == 0):\n",
    "        shutil.move(im_path, dst_dir_false)\n",
    "    "
   ]
  },
  {
   "cell_type": "code",
   "execution_count": 13,
   "metadata": {},
   "outputs": [],
   "source": [
    "#read images in batches\n",
    "def load_images(image_size, batch_size, root):\n",
    "\n",
    "    transform = transforms.Compose([\n",
    "                    transforms.Resize(image_size),\n",
    "                    transforms.ToTensor(),\n",
    "                    transforms.Normalize((0.5, 0.5, 0.5), (0.5, 0.5, 0.5))\n",
    "    ])\n",
    "\n",
    "    train_set = torchvision.datasets.ImageFolder(root=root, transform=transform)\n",
    "    train_loader = torch.utils.data.DataLoader(train_set, batch_size=batch_size, shuffle=True, num_workers=2)\n",
    "\n",
    "    return train_loader"
   ]
  },
  {
   "cell_type": "code",
   "execution_count": 14,
   "metadata": {},
   "outputs": [
    {
     "data": {
      "text/plain": [
       "<torch.utils.data.dataloader.DataLoader at 0x126e50a6dd8>"
      ]
     },
     "execution_count": 14,
     "metadata": {},
     "output_type": "execute_result"
    }
   ],
   "source": [
    "#TEST LOADING IMAGES\n",
    "train_loader = load_images(image_size=96, batch_size=128, root=\"./Data/train\")\n",
    "train_loader"
   ]
  },
  {
   "cell_type": "code",
   "execution_count": null,
   "metadata": {},
   "outputs": [],
   "source": [
    "index = 0\n",
    "for image in train_loader:\n",
    "    index += 1\n",
    "print(str(index)+\" Index should be =\"+str(220025/128))"
   ]
  },
  {
   "cell_type": "code",
   "execution_count": null,
   "metadata": {},
   "outputs": [],
   "source": []
  }
 ],
 "metadata": {
  "kernelspec": {
   "display_name": "Python 3",
   "language": "python",
   "name": "python3"
  },
  "language_info": {
   "codemirror_mode": {
    "name": "ipython",
    "version": 3
   },
   "file_extension": ".py",
   "mimetype": "text/x-python",
   "name": "python",
   "nbconvert_exporter": "python",
   "pygments_lexer": "ipython3",
   "version": "3.6.8"
  }
 },
 "nbformat": 4,
 "nbformat_minor": 2
}
